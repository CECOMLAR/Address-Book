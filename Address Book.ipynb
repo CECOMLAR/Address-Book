{
 "cells": [
  {
   "cell_type": "markdown",
   "metadata": {
    "collapsed": true
   },
   "source": [
    "Michael's Address Book"
   ]
  },
  {
   "cell_type": "code",
   "execution_count": null,
   "metadata": {},
   "outputs": [],
   "source": [
    "Fname = input ('Enter first name:')\n",
    "Lname = input ('Enter last name:')\n",
    "Straddress = input ('Enter street number and name:')\n",
    "City = input ('Enter city:')\n",
    "State = input ('Enter State:')\n",
    "Zip = input ('Enter zip:')\n",
    "Phone = input ('Enter phone:')\n",
    "\n",
    "print (Fname, Lname, Straddress, City, State, Zip, Phone)"
   ]
  }
 ],
 "metadata": {
  "kernelspec": {
   "display_name": "Python 3.7",
   "language": "python",
   "name": "python3"
  },
  "language_info": {
   "codemirror_mode": {
    "name": "ipython",
    "version": 3
   },
   "file_extension": ".py",
   "mimetype": "text/x-python",
   "name": "python",
   "nbconvert_exporter": "python",
   "pygments_lexer": "ipython3",
   "version": "3.7.9"
  }
 },
 "nbformat": 4,
 "nbformat_minor": 1
}
